{
 "cells": [
  {
   "cell_type": "code",
   "execution_count": 1,
   "id": "5dc68e6e-00e3-4854-96f9-75cb4a937300",
   "metadata": {},
   "outputs": [],
   "source": [
    "import numpy as np"
   ]
  },
  {
   "cell_type": "markdown",
   "id": "ad94f0fa-1ddf-465f-8671-bb3d7baa4cc3",
   "metadata": {},
   "source": [
    "## Data Import"
   ]
  },
  {
   "cell_type": "code",
   "execution_count": 2,
   "id": "ce5aa79b-a488-4e49-b591-edc65d4e2cdf",
   "metadata": {},
   "outputs": [],
   "source": [
    "import pandas as pd\n",
    "df = pd.read_excel ('Cardata.xlsx')\n",
    "car = df.copy()"
   ]
  },
  {
   "cell_type": "markdown",
   "id": "7f28ccd1-a3ff-4508-afac-228395818ae8",
   "metadata": {},
   "source": [
    "## Data Exploration"
   ]
  },
  {
   "cell_type": "code",
   "execution_count": 3,
   "id": "edec36b6-8f04-457b-a026-2f419f037f2e",
   "metadata": {},
   "outputs": [
    {
     "data": {
      "text/html": [
       "<div>\n",
       "<style scoped>\n",
       "    .dataframe tbody tr th:only-of-type {\n",
       "        vertical-align: middle;\n",
       "    }\n",
       "\n",
       "    .dataframe tbody tr th {\n",
       "        vertical-align: top;\n",
       "    }\n",
       "\n",
       "    .dataframe thead th {\n",
       "        text-align: right;\n",
       "    }\n",
       "</style>\n",
       "<table border=\"1\" class=\"dataframe\">\n",
       "  <thead>\n",
       "    <tr style=\"text-align: right;\">\n",
       "      <th></th>\n",
       "      <th>Price</th>\n",
       "      <th>Brand</th>\n",
       "      <th>Series</th>\n",
       "      <th>Model</th>\n",
       "      <th>Year_</th>\n",
       "      <th>Fuel_Type</th>\n",
       "      <th>Gear_Type</th>\n",
       "      <th>Engine_Capacity</th>\n",
       "      <th>Engine_Power</th>\n",
       "      <th>Kilometer</th>\n",
       "      <th>Unnamed: 10</th>\n",
       "    </tr>\n",
       "  </thead>\n",
       "  <tbody>\n",
       "    <tr>\n",
       "      <th>0</th>\n",
       "      <td>92000</td>\n",
       "      <td>Honda</td>\n",
       "      <td>Civic</td>\n",
       "      <td>1.6 LS</td>\n",
       "      <td>2005</td>\n",
       "      <td>LPG &amp; Benzin</td>\n",
       "      <td>Manuel</td>\n",
       "      <td>1590 cc</td>\n",
       "      <td>110 HP</td>\n",
       "      <td>270000</td>\n",
       "      <td>NaN</td>\n",
       "    </tr>\n",
       "    <tr>\n",
       "      <th>1</th>\n",
       "      <td>95000</td>\n",
       "      <td>Honda</td>\n",
       "      <td>Civic</td>\n",
       "      <td>1.6 LS</td>\n",
       "      <td>2005</td>\n",
       "      <td>LPG &amp; Benzin</td>\n",
       "      <td>Manuel</td>\n",
       "      <td>1590 cc</td>\n",
       "      <td>110 HP</td>\n",
       "      <td>183000</td>\n",
       "      <td>NaN</td>\n",
       "    </tr>\n",
       "    <tr>\n",
       "      <th>2</th>\n",
       "      <td>190000</td>\n",
       "      <td>Honda</td>\n",
       "      <td>Civic</td>\n",
       "      <td>1.6 Elegance</td>\n",
       "      <td>2011</td>\n",
       "      <td>LPG &amp; Benzin</td>\n",
       "      <td>Otomatik</td>\n",
       "      <td>1595 cc</td>\n",
       "      <td>125 HP</td>\n",
       "      <td>152000</td>\n",
       "      <td>NaN</td>\n",
       "    </tr>\n",
       "    <tr>\n",
       "      <th>3</th>\n",
       "      <td>77500</td>\n",
       "      <td>Honda</td>\n",
       "      <td>Civic</td>\n",
       "      <td>1.6 LS</td>\n",
       "      <td>2002</td>\n",
       "      <td>LPG &amp; Benzin</td>\n",
       "      <td>Otomatik</td>\n",
       "      <td>1590 cc</td>\n",
       "      <td>110 HP</td>\n",
       "      <td>229000</td>\n",
       "      <td>NaN</td>\n",
       "    </tr>\n",
       "    <tr>\n",
       "      <th>4</th>\n",
       "      <td>107500</td>\n",
       "      <td>Honda</td>\n",
       "      <td>Civic</td>\n",
       "      <td>1.6 LS</td>\n",
       "      <td>2006</td>\n",
       "      <td>LPG &amp; Benzin</td>\n",
       "      <td>Manuel</td>\n",
       "      <td>1590 cc</td>\n",
       "      <td>110 HP</td>\n",
       "      <td>221000</td>\n",
       "      <td>NaN</td>\n",
       "    </tr>\n",
       "  </tbody>\n",
       "</table>\n",
       "</div>"
      ],
      "text/plain": [
       "    Price  Brand Series         Model  Year_     Fuel_Type Gear_Type  \\\n",
       "0   92000  Honda  Civic        1.6 LS   2005  LPG & Benzin    Manuel   \n",
       "1   95000  Honda  Civic        1.6 LS   2005  LPG & Benzin    Manuel   \n",
       "2  190000  Honda  Civic  1.6 Elegance   2011  LPG & Benzin  Otomatik   \n",
       "3   77500  Honda  Civic        1.6 LS   2002  LPG & Benzin  Otomatik   \n",
       "4  107500  Honda  Civic        1.6 LS   2006  LPG & Benzin    Manuel   \n",
       "\n",
       "  Engine_Capacity Engine_Power  Kilometer  Unnamed: 10  \n",
       "0         1590 cc       110 HP     270000          NaN  \n",
       "1         1590 cc       110 HP     183000          NaN  \n",
       "2         1595 cc       125 HP     152000          NaN  \n",
       "3         1590 cc       110 HP     229000          NaN  \n",
       "4         1590 cc       110 HP     221000          NaN  "
      ]
     },
     "execution_count": 3,
     "metadata": {},
     "output_type": "execute_result"
    }
   ],
   "source": [
    "car.head()"
   ]
  },
  {
   "cell_type": "code",
   "execution_count": 4,
   "id": "c8d36e13-d80d-4aff-ac51-2969c274c08f",
   "metadata": {
    "scrolled": true
   },
   "outputs": [
    {
     "name": "stdout",
     "output_type": "stream",
     "text": [
      "<class 'pandas.core.frame.DataFrame'>\n",
      "RangeIndex: 89004 entries, 0 to 89003\n",
      "Data columns (total 11 columns):\n",
      " #   Column           Non-Null Count  Dtype  \n",
      "---  ------           --------------  -----  \n",
      " 0   Price            89004 non-null  int64  \n",
      " 1   Brand            89004 non-null  object \n",
      " 2   Series           89004 non-null  object \n",
      " 3   Model            89004 non-null  object \n",
      " 4   Year_            89004 non-null  int64  \n",
      " 5   Fuel_Type        89004 non-null  object \n",
      " 6   Gear_Type        89004 non-null  object \n",
      " 7   Engine_Capacity  89004 non-null  object \n",
      " 8   Engine_Power     89004 non-null  object \n",
      " 9   Kilometer        89004 non-null  int64  \n",
      " 10  Unnamed: 10      1 non-null      float64\n",
      "dtypes: float64(1), int64(3), object(7)\n",
      "memory usage: 7.5+ MB\n"
     ]
    }
   ],
   "source": [
    "car.info()"
   ]
  },
  {
   "cell_type": "markdown",
   "id": "e02684da",
   "metadata": {},
   "source": [
    "## Data Preprocessing"
   ]
  },
  {
   "cell_type": "code",
   "execution_count": 5,
   "id": "dc1aa0d9-83c2-49ce-ba6b-d59f434ae892",
   "metadata": {},
   "outputs": [
    {
     "data": {
      "text/html": [
       "<div>\n",
       "<style scoped>\n",
       "    .dataframe tbody tr th:only-of-type {\n",
       "        vertical-align: middle;\n",
       "    }\n",
       "\n",
       "    .dataframe tbody tr th {\n",
       "        vertical-align: top;\n",
       "    }\n",
       "\n",
       "    .dataframe thead th {\n",
       "        text-align: right;\n",
       "    }\n",
       "</style>\n",
       "<table border=\"1\" class=\"dataframe\">\n",
       "  <thead>\n",
       "    <tr style=\"text-align: right;\">\n",
       "      <th></th>\n",
       "      <th>Price</th>\n",
       "      <th>Brand</th>\n",
       "      <th>Series</th>\n",
       "      <th>Model</th>\n",
       "      <th>Year_</th>\n",
       "      <th>Fuel_Type</th>\n",
       "      <th>Gear_Type</th>\n",
       "      <th>Engine_Capacity</th>\n",
       "      <th>Engine_Power</th>\n",
       "      <th>Kilometer</th>\n",
       "    </tr>\n",
       "  </thead>\n",
       "  <tbody>\n",
       "    <tr>\n",
       "      <th>0</th>\n",
       "      <td>92000</td>\n",
       "      <td>Honda</td>\n",
       "      <td>Civic</td>\n",
       "      <td>1.6 LS</td>\n",
       "      <td>2005</td>\n",
       "      <td>LPG &amp; Benzin</td>\n",
       "      <td>Manuel</td>\n",
       "      <td>1590 cc</td>\n",
       "      <td>110 HP</td>\n",
       "      <td>270000</td>\n",
       "    </tr>\n",
       "    <tr>\n",
       "      <th>1</th>\n",
       "      <td>95000</td>\n",
       "      <td>Honda</td>\n",
       "      <td>Civic</td>\n",
       "      <td>1.6 LS</td>\n",
       "      <td>2005</td>\n",
       "      <td>LPG &amp; Benzin</td>\n",
       "      <td>Manuel</td>\n",
       "      <td>1590 cc</td>\n",
       "      <td>110 HP</td>\n",
       "      <td>183000</td>\n",
       "    </tr>\n",
       "    <tr>\n",
       "      <th>2</th>\n",
       "      <td>190000</td>\n",
       "      <td>Honda</td>\n",
       "      <td>Civic</td>\n",
       "      <td>1.6 Elegance</td>\n",
       "      <td>2011</td>\n",
       "      <td>LPG &amp; Benzin</td>\n",
       "      <td>Otomatik</td>\n",
       "      <td>1595 cc</td>\n",
       "      <td>125 HP</td>\n",
       "      <td>152000</td>\n",
       "    </tr>\n",
       "    <tr>\n",
       "      <th>3</th>\n",
       "      <td>77500</td>\n",
       "      <td>Honda</td>\n",
       "      <td>Civic</td>\n",
       "      <td>1.6 LS</td>\n",
       "      <td>2002</td>\n",
       "      <td>LPG &amp; Benzin</td>\n",
       "      <td>Otomatik</td>\n",
       "      <td>1590 cc</td>\n",
       "      <td>110 HP</td>\n",
       "      <td>229000</td>\n",
       "    </tr>\n",
       "    <tr>\n",
       "      <th>4</th>\n",
       "      <td>107500</td>\n",
       "      <td>Honda</td>\n",
       "      <td>Civic</td>\n",
       "      <td>1.6 LS</td>\n",
       "      <td>2006</td>\n",
       "      <td>LPG &amp; Benzin</td>\n",
       "      <td>Manuel</td>\n",
       "      <td>1590 cc</td>\n",
       "      <td>110 HP</td>\n",
       "      <td>221000</td>\n",
       "    </tr>\n",
       "    <tr>\n",
       "      <th>...</th>\n",
       "      <td>...</td>\n",
       "      <td>...</td>\n",
       "      <td>...</td>\n",
       "      <td>...</td>\n",
       "      <td>...</td>\n",
       "      <td>...</td>\n",
       "      <td>...</td>\n",
       "      <td>...</td>\n",
       "      <td>...</td>\n",
       "      <td>...</td>\n",
       "    </tr>\n",
       "    <tr>\n",
       "      <th>88999</th>\n",
       "      <td>205000</td>\n",
       "      <td>Skoda</td>\n",
       "      <td>Octavia</td>\n",
       "      <td>1.6 TDI Optimal</td>\n",
       "      <td>2017</td>\n",
       "      <td>Dizel</td>\n",
       "      <td>Yari Otomatik</td>\n",
       "      <td>1598 cc</td>\n",
       "      <td>115 HP</td>\n",
       "      <td>105000</td>\n",
       "    </tr>\n",
       "    <tr>\n",
       "      <th>89000</th>\n",
       "      <td>208000</td>\n",
       "      <td>Skoda</td>\n",
       "      <td>Octavia</td>\n",
       "      <td>1.6 TDI Optimal</td>\n",
       "      <td>2017</td>\n",
       "      <td>Dizel</td>\n",
       "      <td>Yari Otomatik</td>\n",
       "      <td>1598 cc</td>\n",
       "      <td>115 HP</td>\n",
       "      <td>114000</td>\n",
       "    </tr>\n",
       "    <tr>\n",
       "      <th>89001</th>\n",
       "      <td>220000</td>\n",
       "      <td>Skoda</td>\n",
       "      <td>Octavia</td>\n",
       "      <td>1.6 TDI Optimal</td>\n",
       "      <td>2017</td>\n",
       "      <td>Dizel</td>\n",
       "      <td>Yari Otomatik</td>\n",
       "      <td>1598 cc</td>\n",
       "      <td>115 HP</td>\n",
       "      <td>108000</td>\n",
       "    </tr>\n",
       "    <tr>\n",
       "      <th>89002</th>\n",
       "      <td>198000</td>\n",
       "      <td>Skoda</td>\n",
       "      <td>Octavia</td>\n",
       "      <td>1.6 TDI Optimal</td>\n",
       "      <td>2015</td>\n",
       "      <td>Dizel</td>\n",
       "      <td>Yari Otomatik</td>\n",
       "      <td>1598 cc</td>\n",
       "      <td>110 HP</td>\n",
       "      <td>123000</td>\n",
       "    </tr>\n",
       "    <tr>\n",
       "      <th>89003</th>\n",
       "      <td>204500</td>\n",
       "      <td>Skoda</td>\n",
       "      <td>Octavia</td>\n",
       "      <td>1.6 TDI Optimal</td>\n",
       "      <td>2016</td>\n",
       "      <td>Dizel</td>\n",
       "      <td>Yari Otomatik</td>\n",
       "      <td>1598 cc</td>\n",
       "      <td>110 HP</td>\n",
       "      <td>105000</td>\n",
       "    </tr>\n",
       "  </tbody>\n",
       "</table>\n",
       "<p>89004 rows × 10 columns</p>\n",
       "</div>"
      ],
      "text/plain": [
       "        Price  Brand   Series            Model  Year_     Fuel_Type  \\\n",
       "0       92000  Honda    Civic           1.6 LS   2005  LPG & Benzin   \n",
       "1       95000  Honda    Civic           1.6 LS   2005  LPG & Benzin   \n",
       "2      190000  Honda    Civic     1.6 Elegance   2011  LPG & Benzin   \n",
       "3       77500  Honda    Civic           1.6 LS   2002  LPG & Benzin   \n",
       "4      107500  Honda    Civic           1.6 LS   2006  LPG & Benzin   \n",
       "...       ...    ...      ...              ...    ...           ...   \n",
       "88999  205000  Skoda  Octavia  1.6 TDI Optimal   2017         Dizel   \n",
       "89000  208000  Skoda  Octavia  1.6 TDI Optimal   2017         Dizel   \n",
       "89001  220000  Skoda  Octavia  1.6 TDI Optimal   2017         Dizel   \n",
       "89002  198000  Skoda  Octavia  1.6 TDI Optimal   2015         Dizel   \n",
       "89003  204500  Skoda  Octavia  1.6 TDI Optimal   2016         Dizel   \n",
       "\n",
       "           Gear_Type Engine_Capacity Engine_Power  Kilometer  \n",
       "0             Manuel         1590 cc       110 HP     270000  \n",
       "1             Manuel         1590 cc       110 HP     183000  \n",
       "2           Otomatik         1595 cc       125 HP     152000  \n",
       "3           Otomatik         1590 cc       110 HP     229000  \n",
       "4             Manuel         1590 cc       110 HP     221000  \n",
       "...              ...             ...          ...        ...  \n",
       "88999  Yari Otomatik         1598 cc       115 HP     105000  \n",
       "89000  Yari Otomatik         1598 cc       115 HP     114000  \n",
       "89001  Yari Otomatik         1598 cc       115 HP     108000  \n",
       "89002  Yari Otomatik         1598 cc       110 HP     123000  \n",
       "89003  Yari Otomatik         1598 cc       110 HP     105000  \n",
       "\n",
       "[89004 rows x 10 columns]"
      ]
     },
     "execution_count": 5,
     "metadata": {},
     "output_type": "execute_result"
    }
   ],
   "source": [
    "car.drop(['Unnamed: 10'], axis=1, inplace=True)\n",
    "car"
   ]
  },
  {
   "cell_type": "code",
   "execution_count": 6,
   "id": "1a3206ed-9c27-4a41-a146-2cba0f4b22e1",
   "metadata": {},
   "outputs": [
    {
     "data": {
      "text/html": [
       "<div>\n",
       "<style scoped>\n",
       "    .dataframe tbody tr th:only-of-type {\n",
       "        vertical-align: middle;\n",
       "    }\n",
       "\n",
       "    .dataframe tbody tr th {\n",
       "        vertical-align: top;\n",
       "    }\n",
       "\n",
       "    .dataframe thead th {\n",
       "        text-align: right;\n",
       "    }\n",
       "</style>\n",
       "<table border=\"1\" class=\"dataframe\">\n",
       "  <thead>\n",
       "    <tr style=\"text-align: right;\">\n",
       "      <th></th>\n",
       "      <th>Price</th>\n",
       "      <th>Brand</th>\n",
       "      <th>Series</th>\n",
       "      <th>Model</th>\n",
       "      <th>Year_</th>\n",
       "      <th>Fuel_Type</th>\n",
       "      <th>Gear_Type</th>\n",
       "      <th>Engine_Capacity</th>\n",
       "      <th>Engine_Power</th>\n",
       "      <th>Kilometer</th>\n",
       "    </tr>\n",
       "  </thead>\n",
       "  <tbody>\n",
       "    <tr>\n",
       "      <th>28036</th>\n",
       "      <td>150115000</td>\n",
       "      <td>Opel</td>\n",
       "      <td>Vectra</td>\n",
       "      <td>1.9 CDTI Comfort</td>\n",
       "      <td>2006</td>\n",
       "      <td>Dizel</td>\n",
       "      <td>Otomatik</td>\n",
       "      <td>1910 cc</td>\n",
       "      <td>150 HP</td>\n",
       "      <td>240000</td>\n",
       "    </tr>\n",
       "    <tr>\n",
       "      <th>13097</th>\n",
       "      <td>117500000</td>\n",
       "      <td>Honda</td>\n",
       "      <td>Civic</td>\n",
       "      <td>1.8 Sport</td>\n",
       "      <td>2008</td>\n",
       "      <td>Benzin</td>\n",
       "      <td>Yari Otomatik</td>\n",
       "      <td>1799 cc</td>\n",
       "      <td>140 HP</td>\n",
       "      <td>202500</td>\n",
       "    </tr>\n",
       "    <tr>\n",
       "      <th>1604</th>\n",
       "      <td>115000143</td>\n",
       "      <td>Honda</td>\n",
       "      <td>Jazz</td>\n",
       "      <td>1.4 ES Elite</td>\n",
       "      <td>2008</td>\n",
       "      <td>LPG &amp; Benzin</td>\n",
       "      <td>Manuel</td>\n",
       "      <td>1339 cc</td>\n",
       "      <td>83 HP</td>\n",
       "      <td>143500</td>\n",
       "    </tr>\n",
       "    <tr>\n",
       "      <th>84560</th>\n",
       "      <td>4650000</td>\n",
       "      <td>Mercedes - Benz</td>\n",
       "      <td>S</td>\n",
       "      <td>S 500 500 L</td>\n",
       "      <td>2021</td>\n",
       "      <td>Benzin</td>\n",
       "      <td>Otomatik</td>\n",
       "      <td>2501 - 3000 cc</td>\n",
       "      <td>301 - 325 HP</td>\n",
       "      <td>0</td>\n",
       "    </tr>\n",
       "    <tr>\n",
       "      <th>84671</th>\n",
       "      <td>4300000</td>\n",
       "      <td>Mercedes - Benz</td>\n",
       "      <td>S</td>\n",
       "      <td>S 400 400 L</td>\n",
       "      <td>2020</td>\n",
       "      <td>Dizel</td>\n",
       "      <td>Otomatik</td>\n",
       "      <td>2501 - 3000 cc</td>\n",
       "      <td>326 - 350 HP</td>\n",
       "      <td>13</td>\n",
       "    </tr>\n",
       "    <tr>\n",
       "      <th>...</th>\n",
       "      <td>...</td>\n",
       "      <td>...</td>\n",
       "      <td>...</td>\n",
       "      <td>...</td>\n",
       "      <td>...</td>\n",
       "      <td>...</td>\n",
       "      <td>...</td>\n",
       "      <td>...</td>\n",
       "      <td>...</td>\n",
       "      <td>...</td>\n",
       "    </tr>\n",
       "    <tr>\n",
       "      <th>80243</th>\n",
       "      <td>12500</td>\n",
       "      <td>Renault</td>\n",
       "      <td>R 9</td>\n",
       "      <td>1.4 Broadway</td>\n",
       "      <td>1985</td>\n",
       "      <td>LPG &amp; Benzin</td>\n",
       "      <td>Manuel</td>\n",
       "      <td>1397 cc</td>\n",
       "      <td>67 HP</td>\n",
       "      <td>287000</td>\n",
       "    </tr>\n",
       "    <tr>\n",
       "      <th>35040</th>\n",
       "      <td>10750</td>\n",
       "      <td>Renault</td>\n",
       "      <td>Megane</td>\n",
       "      <td>1.6 CC Dynamique</td>\n",
       "      <td>2008</td>\n",
       "      <td>LPG &amp; Benzin</td>\n",
       "      <td>Manuel</td>\n",
       "      <td>1598 cc</td>\n",
       "      <td>110 HP</td>\n",
       "      <td>258000</td>\n",
       "    </tr>\n",
       "    <tr>\n",
       "      <th>54534</th>\n",
       "      <td>10500</td>\n",
       "      <td>Mitsubishi</td>\n",
       "      <td>Lancer</td>\n",
       "      <td>1.5 GLX</td>\n",
       "      <td>1986</td>\n",
       "      <td>LPG &amp; Benzin</td>\n",
       "      <td>Manuel</td>\n",
       "      <td>1401 - 1600 cc</td>\n",
       "      <td>51 - 75 HP</td>\n",
       "      <td>200000</td>\n",
       "    </tr>\n",
       "    <tr>\n",
       "      <th>82820</th>\n",
       "      <td>9000</td>\n",
       "      <td>Ford</td>\n",
       "      <td>Taunus</td>\n",
       "      <td>1.6 GT</td>\n",
       "      <td>1988</td>\n",
       "      <td>Benzin</td>\n",
       "      <td>Manuel</td>\n",
       "      <td>1592 cc</td>\n",
       "      <td>101 HP</td>\n",
       "      <td>16000</td>\n",
       "    </tr>\n",
       "    <tr>\n",
       "      <th>82830</th>\n",
       "      <td>8500</td>\n",
       "      <td>Ford</td>\n",
       "      <td>Taunus</td>\n",
       "      <td>1.6 GT</td>\n",
       "      <td>1992</td>\n",
       "      <td>LPG &amp; Benzin</td>\n",
       "      <td>Manuel</td>\n",
       "      <td>1592 cc</td>\n",
       "      <td>101 HP</td>\n",
       "      <td>350000</td>\n",
       "    </tr>\n",
       "  </tbody>\n",
       "</table>\n",
       "<p>89004 rows × 10 columns</p>\n",
       "</div>"
      ],
      "text/plain": [
       "           Price            Brand  Series             Model  Year_  \\\n",
       "28036  150115000             Opel  Vectra  1.9 CDTI Comfort   2006   \n",
       "13097  117500000            Honda   Civic         1.8 Sport   2008   \n",
       "1604   115000143            Honda    Jazz      1.4 ES Elite   2008   \n",
       "84560    4650000  Mercedes - Benz       S       S 500 500 L   2021   \n",
       "84671    4300000  Mercedes - Benz       S       S 400 400 L   2020   \n",
       "...          ...              ...     ...               ...    ...   \n",
       "80243      12500          Renault     R 9      1.4 Broadway   1985   \n",
       "35040      10750          Renault  Megane  1.6 CC Dynamique   2008   \n",
       "54534      10500       Mitsubishi  Lancer           1.5 GLX   1986   \n",
       "82820       9000             Ford  Taunus            1.6 GT   1988   \n",
       "82830       8500             Ford  Taunus            1.6 GT   1992   \n",
       "\n",
       "          Fuel_Type      Gear_Type Engine_Capacity  Engine_Power  Kilometer  \n",
       "28036         Dizel       Otomatik         1910 cc        150 HP     240000  \n",
       "13097        Benzin  Yari Otomatik         1799 cc        140 HP     202500  \n",
       "1604   LPG & Benzin         Manuel         1339 cc         83 HP     143500  \n",
       "84560        Benzin       Otomatik  2501 - 3000 cc  301 - 325 HP          0  \n",
       "84671         Dizel       Otomatik  2501 - 3000 cc  326 - 350 HP         13  \n",
       "...             ...            ...             ...           ...        ...  \n",
       "80243  LPG & Benzin         Manuel         1397 cc         67 HP     287000  \n",
       "35040  LPG & Benzin         Manuel         1598 cc        110 HP     258000  \n",
       "54534  LPG & Benzin         Manuel  1401 - 1600 cc    51 - 75 HP     200000  \n",
       "82820        Benzin         Manuel         1592 cc        101 HP      16000  \n",
       "82830  LPG & Benzin         Manuel         1592 cc        101 HP     350000  \n",
       "\n",
       "[89004 rows x 10 columns]"
      ]
     },
     "execution_count": 6,
     "metadata": {},
     "output_type": "execute_result"
    }
   ],
   "source": [
    "car.sort_values(by = 'Price', ascending = False)"
   ]
  },
  {
   "cell_type": "code",
   "execution_count": 7,
   "id": "c8b7f370-f518-4f36-8332-90a24a37047b",
   "metadata": {},
   "outputs": [],
   "source": [
    "car = car.drop(1604)\n",
    "car = car.drop(13097)\n",
    "car = car.drop(28036)"
   ]
  },
  {
   "cell_type": "markdown",
   "id": "4113ad26",
   "metadata": {},
   "source": [
    "def find_boundaries(df, variables):\n",
    "    Q1 = df[variables].quantile(.25)\n",
    "    Q3 = df[variables].quantile(.75)\n",
    "    IQR = Q3 - Q1\n",
    "    lower_boundy = Q1 - 1.5*IQR\n",
    "    upper_boundy = Q3 + 1.5*IQR\n",
    "    \n",
    "    return lower_boundy, upper_boundy"
   ]
  },
  {
   "cell_type": "markdown",
   "id": "2d9a30ec",
   "metadata": {},
   "source": [
    "lower_price, upper_price = find_boundaries(car,'Price')"
   ]
  },
  {
   "cell_type": "markdown",
   "id": "15415008",
   "metadata": {},
   "source": [
    "print(\"Üst Limit Fiyat : \",upper_price)\n",
    "print(\"Alt Limit Fiyat : \",lower_price)"
   ]
  },
  {
   "cell_type": "markdown",
   "id": "63a9727d",
   "metadata": {},
   "source": [
    "outliers_price = np.where(car['Price'] > upper_price,True ,\n",
    "                         np.where(car['Price'] < lower_price, True, False))"
   ]
  },
  {
   "cell_type": "markdown",
   "id": "f032d3b2",
   "metadata": {},
   "source": [
    "outliers_price"
   ]
  },
  {
   "cell_type": "markdown",
   "id": "bc2ed3d8",
   "metadata": {},
   "source": [
    "car.shape"
   ]
  },
  {
   "cell_type": "markdown",
   "id": "9b7014fc",
   "metadata": {},
   "source": [
    "engineered_car = car.loc[~(outliers_price),]"
   ]
  },
  {
   "cell_type": "markdown",
   "id": "21bbf655",
   "metadata": {},
   "source": [
    "engineered_car.shape"
   ]
  },
  {
   "cell_type": "markdown",
   "id": "01c37cdd",
   "metadata": {},
   "source": [
    "engineered_car.head()"
   ]
  },
  {
   "cell_type": "markdown",
   "id": "7bf63995",
   "metadata": {},
   "source": [
    "car = engineered_car.astype({\"Model\": str, \"Series\": str})"
   ]
  },
  {
   "cell_type": "code",
   "execution_count": 11,
   "id": "b4893208",
   "metadata": {},
   "outputs": [],
   "source": [
    "car = car.astype({\"Model\": str, \"Series\": str})"
   ]
  },
  {
   "cell_type": "code",
   "execution_count": 12,
   "id": "a3b8f31a-29f0-440e-8e2c-4dccb5522c47",
   "metadata": {
    "scrolled": false
   },
   "outputs": [
    {
     "data": {
      "text/html": [
       "<div>\n",
       "<style scoped>\n",
       "    .dataframe tbody tr th:only-of-type {\n",
       "        vertical-align: middle;\n",
       "    }\n",
       "\n",
       "    .dataframe tbody tr th {\n",
       "        vertical-align: top;\n",
       "    }\n",
       "\n",
       "    .dataframe thead th {\n",
       "        text-align: right;\n",
       "    }\n",
       "</style>\n",
       "<table border=\"1\" class=\"dataframe\">\n",
       "  <thead>\n",
       "    <tr style=\"text-align: right;\">\n",
       "      <th></th>\n",
       "      <th>Price</th>\n",
       "      <th>Brand</th>\n",
       "      <th>Series</th>\n",
       "      <th>Model</th>\n",
       "      <th>Year_</th>\n",
       "      <th>Fuel_Type</th>\n",
       "      <th>Gear_Type</th>\n",
       "      <th>Engine_Capacity</th>\n",
       "      <th>Engine_Power</th>\n",
       "      <th>Kilometer</th>\n",
       "    </tr>\n",
       "  </thead>\n",
       "  <tbody>\n",
       "    <tr>\n",
       "      <th>0</th>\n",
       "      <td>92000</td>\n",
       "      <td>Honda</td>\n",
       "      <td>Civic</td>\n",
       "      <td>1.6 LS</td>\n",
       "      <td>2005</td>\n",
       "      <td>LPG &amp; Benzin</td>\n",
       "      <td>Manuel</td>\n",
       "      <td>1590 cc</td>\n",
       "      <td>110 HP</td>\n",
       "      <td>270000</td>\n",
       "    </tr>\n",
       "    <tr>\n",
       "      <th>1</th>\n",
       "      <td>95000</td>\n",
       "      <td>Honda</td>\n",
       "      <td>Civic</td>\n",
       "      <td>1.6 LS</td>\n",
       "      <td>2005</td>\n",
       "      <td>LPG &amp; Benzin</td>\n",
       "      <td>Manuel</td>\n",
       "      <td>1590 cc</td>\n",
       "      <td>110 HP</td>\n",
       "      <td>183000</td>\n",
       "    </tr>\n",
       "    <tr>\n",
       "      <th>2</th>\n",
       "      <td>190000</td>\n",
       "      <td>Honda</td>\n",
       "      <td>Civic</td>\n",
       "      <td>1.6 Elegance</td>\n",
       "      <td>2011</td>\n",
       "      <td>LPG &amp; Benzin</td>\n",
       "      <td>Otomatik</td>\n",
       "      <td>1595 cc</td>\n",
       "      <td>125 HP</td>\n",
       "      <td>152000</td>\n",
       "    </tr>\n",
       "    <tr>\n",
       "      <th>3</th>\n",
       "      <td>77500</td>\n",
       "      <td>Honda</td>\n",
       "      <td>Civic</td>\n",
       "      <td>1.6 LS</td>\n",
       "      <td>2002</td>\n",
       "      <td>LPG &amp; Benzin</td>\n",
       "      <td>Otomatik</td>\n",
       "      <td>1590 cc</td>\n",
       "      <td>110 HP</td>\n",
       "      <td>229000</td>\n",
       "    </tr>\n",
       "    <tr>\n",
       "      <th>4</th>\n",
       "      <td>107500</td>\n",
       "      <td>Honda</td>\n",
       "      <td>Civic</td>\n",
       "      <td>1.6 LS</td>\n",
       "      <td>2006</td>\n",
       "      <td>LPG &amp; Benzin</td>\n",
       "      <td>Manuel</td>\n",
       "      <td>1590 cc</td>\n",
       "      <td>110 HP</td>\n",
       "      <td>221000</td>\n",
       "    </tr>\n",
       "  </tbody>\n",
       "</table>\n",
       "</div>"
      ],
      "text/plain": [
       "    Price  Brand Series         Model  Year_     Fuel_Type Gear_Type  \\\n",
       "0   92000  Honda  Civic        1.6 LS   2005  LPG & Benzin    Manuel   \n",
       "1   95000  Honda  Civic        1.6 LS   2005  LPG & Benzin    Manuel   \n",
       "2  190000  Honda  Civic  1.6 Elegance   2011  LPG & Benzin  Otomatik   \n",
       "3   77500  Honda  Civic        1.6 LS   2002  LPG & Benzin  Otomatik   \n",
       "4  107500  Honda  Civic        1.6 LS   2006  LPG & Benzin    Manuel   \n",
       "\n",
       "  Engine_Capacity Engine_Power  Kilometer  \n",
       "0         1590 cc       110 HP     270000  \n",
       "1         1590 cc       110 HP     183000  \n",
       "2         1595 cc       125 HP     152000  \n",
       "3         1590 cc       110 HP     229000  \n",
       "4         1590 cc       110 HP     221000  "
      ]
     },
     "execution_count": 12,
     "metadata": {},
     "output_type": "execute_result"
    }
   ],
   "source": [
    "car.head()"
   ]
  },
  {
   "cell_type": "code",
   "execution_count": 13,
   "id": "788a036f",
   "metadata": {},
   "outputs": [],
   "source": [
    "X = car.iloc[:,[1,2,3,4,5,6,7,8,9]].values # X burada bağımsız değişkenimiz.\n",
    "Y = car.iloc[:,[0]].values # Y Hedef değişkenimiz."
   ]
  },
  {
   "cell_type": "markdown",
   "id": "c9499722",
   "metadata": {},
   "source": [
    "### Label Encoding"
   ]
  },
  {
   "cell_type": "code",
   "execution_count": 14,
   "id": "87da6c43",
   "metadata": {},
   "outputs": [],
   "source": [
    "from sklearn.preprocessing import LabelEncoder\n",
    "le1 = LabelEncoder()\n",
    "X[:,0] = le1.fit_transform(X[:,0]) # Brand kolonunu fit ettik.\n",
    "le2 = LabelEncoder()\n",
    "X[:,1] = le2.fit_transform(X[:,1]) # Series kolonunu fit ettik.\n",
    "le3 = LabelEncoder()\n",
    "X[:,2] = le2.fit_transform(X[:,2]) # Model kolonunu fit ettik.\n",
    "le4 = LabelEncoder()\n",
    "X[:,4] = le2.fit_transform(X[:,4]) #Fuel_Type kolonunu fit ettik.\n",
    "le5 = LabelEncoder()\n",
    "X[:,6] = le1.fit_transform(X[:,6]) # Engine_Capacity kolonunu fit ettik.\n",
    "le6 = LabelEncoder()\n",
    "X[:,7] = le1.fit_transform(X[:,7]) # Engine_Power kolonunu fit ettik."
   ]
  },
  {
   "cell_type": "code",
   "execution_count": 15,
   "id": "101a7590",
   "metadata": {},
   "outputs": [],
   "source": [
    "from sklearn.preprocessing import OneHotEncoder\n",
    "from sklearn.compose import ColumnTransformer\n",
    "ct = ColumnTransformer(transformers = [('encoder',OneHotEncoder(),[5])], remainder = 'passthrough')\n",
    "# Gear_Type kolonunu OneHotEncoder ile kodladık. Remainder OneHotEncoder haliyle bıraktı.\n",
    "X = ct.fit_transform(X)"
   ]
  },
  {
   "cell_type": "markdown",
   "id": "1cdf4ece",
   "metadata": {},
   "source": [
    "## Feature Scaling"
   ]
  },
  {
   "cell_type": "code",
   "execution_count": 16,
   "id": "d5fe371b",
   "metadata": {},
   "outputs": [],
   "source": [
    "from sklearn.preprocessing import StandardScaler\n",
    "sc = StandardScaler()\n",
    "X = sc.fit_transform(X)"
   ]
  },
  {
   "cell_type": "code",
   "execution_count": 17,
   "id": "c319f378",
   "metadata": {},
   "outputs": [
    {
     "name": "stdout",
     "output_type": "stream",
     "text": [
      "[[ 0.79097941 -0.45307102 -0.52263995 ...  0.35068943 -0.97993194\n",
      "   1.23093045]\n",
      " [ 0.79097941 -0.45307102 -0.52263995 ...  0.35068943 -0.97993194\n",
      "   0.27279774]\n",
      " [-1.26425541  2.20715948 -0.52263995 ...  0.44756868 -0.8174982\n",
      "  -0.06860587]\n",
      " ...\n",
      " [-1.26425541 -0.45307102  1.9133631  ...  0.52022812 -0.91745742\n",
      "  -0.55317874]\n",
      " [-1.26425541 -0.45307102  1.9133631  ...  0.52022812 -0.97993194\n",
      "  -0.38798344]\n",
      " [-1.26425541 -0.45307102  1.9133631  ...  0.52022812 -0.97993194\n",
      "  -0.5862178 ]]\n"
     ]
    }
   ],
   "source": [
    "print(X)"
   ]
  },
  {
   "cell_type": "markdown",
   "id": "07cc8aea",
   "metadata": {},
   "source": [
    "## Splitting Dataset into Training and Test Set"
   ]
  },
  {
   "cell_type": "code",
   "execution_count": 18,
   "id": "4400360f",
   "metadata": {},
   "outputs": [],
   "source": [
    "from sklearn.model_selection import train_test_split\n",
    "(X_train, X_test, Y_train, Y_test) = train_test_split(X,Y,test_size=0.2,random_state=0)"
   ]
  },
  {
   "cell_type": "markdown",
   "id": "9556db64",
   "metadata": {},
   "source": [
    "## Training Model"
   ]
  },
  {
   "cell_type": "code",
   "execution_count": 19,
   "id": "494e8881",
   "metadata": {},
   "outputs": [
    {
     "name": "stderr",
     "output_type": "stream",
     "text": [
      "<ipython-input-19-64060e98bbd3>:3: DataConversionWarning: A column-vector y was passed when a 1d array was expected. Please change the shape of y to (n_samples,), for example using ravel().\n",
      "  regression.fit(X_train, Y_train)\n"
     ]
    },
    {
     "data": {
      "text/plain": [
       "RandomForestRegressor(random_state=0)"
      ]
     },
     "execution_count": 19,
     "metadata": {},
     "output_type": "execute_result"
    }
   ],
   "source": [
    "from sklearn.ensemble import RandomForestRegressor\n",
    "regression = RandomForestRegressor(random_state=0)\n",
    "regression.fit(X_train, Y_train)"
   ]
  },
  {
   "cell_type": "code",
   "execution_count": 20,
   "id": "37d5a10e",
   "metadata": {},
   "outputs": [],
   "source": [
    "y_pred = regression.predict(X_test)"
   ]
  },
  {
   "cell_type": "code",
   "execution_count": 21,
   "id": "537891ca",
   "metadata": {},
   "outputs": [
    {
     "name": "stdout",
     "output_type": "stream",
     "text": [
      "[  77018.      91982.49    53354.    ...  167750.     131804.125\n",
      " 1014887.5  ]\n"
     ]
    }
   ],
   "source": [
    "print(y_pred)"
   ]
  },
  {
   "cell_type": "code",
   "execution_count": 22,
   "id": "f68ac99f",
   "metadata": {},
   "outputs": [
    {
     "name": "stdout",
     "output_type": "stream",
     "text": [
      "[[  69000]\n",
      " [  95000]\n",
      " [  59000]\n",
      " ...\n",
      " [ 161000]\n",
      " [ 136900]\n",
      " [1048000]]\n"
     ]
    }
   ],
   "source": [
    "print(Y_test)"
   ]
  },
  {
   "cell_type": "markdown",
   "id": "47bd6d35",
   "metadata": {},
   "source": [
    "## Testing Result"
   ]
  },
  {
   "cell_type": "code",
   "execution_count": 23,
   "id": "f0eb57b9",
   "metadata": {},
   "outputs": [
    {
     "name": "stdout",
     "output_type": "stream",
     "text": [
      "[[  77018.      69000.   ]\n",
      " [  91982.49    95000.   ]\n",
      " [  53354.      59000.   ]\n",
      " ...\n",
      " [ 167750.     161000.   ]\n",
      " [ 131804.125  136900.   ]\n",
      " [1014887.5   1048000.   ]]\n"
     ]
    }
   ],
   "source": [
    "print(np.concatenate((y_pred.reshape(len(y_pred),1),Y_test.reshape(len(Y_test),1)),1))"
   ]
  },
  {
   "cell_type": "markdown",
   "id": "2db783d8",
   "metadata": {},
   "source": [
    "## Calculating Accuracy"
   ]
  },
  {
   "cell_type": "code",
   "execution_count": 24,
   "id": "bd69a466",
   "metadata": {},
   "outputs": [],
   "source": [
    "from sklearn.metrics import r2_score\n",
    "r2 = r2_score(Y_test,y_pred)"
   ]
  },
  {
   "cell_type": "code",
   "execution_count": 25,
   "id": "b22e0687",
   "metadata": {},
   "outputs": [
    {
     "name": "stdout",
     "output_type": "stream",
     "text": [
      "0.9536270723086786\n"
     ]
    }
   ],
   "source": [
    "print(r2)"
   ]
  }
 ],
 "metadata": {
  "kernelspec": {
   "display_name": "Python 3",
   "language": "python",
   "name": "python3"
  },
  "language_info": {
   "codemirror_mode": {
    "name": "ipython",
    "version": 3
   },
   "file_extension": ".py",
   "mimetype": "text/x-python",
   "name": "python",
   "nbconvert_exporter": "python",
   "pygments_lexer": "ipython3",
   "version": "3.8.8"
  }
 },
 "nbformat": 4,
 "nbformat_minor": 5
}
